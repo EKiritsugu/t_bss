{
 "cells": [
  {
   "cell_type": "code",
   "execution_count": 1,
   "id": "a2828c71",
   "metadata": {},
   "outputs": [],
   "source": [
    "# 这个文件用于进行各种python代码的测试\n",
    "# 说实话这个ipynb还蛮好用的\n",
    "# 同时保留一些重要的参考样例\n",
    "# 本文件最终仅是算法的草稿，具体的执行以文件中为准\n"
   ]
  },
  {
   "cell_type": "code",
   "execution_count": 2,
   "outputs": [
    {
     "name": "stdout",
     "output_type": "stream",
     "text": [
      "[8.91440837 5.55991718 3.94500433]\n"
     ]
    },
    {
     "data": {
      "text/plain": "<Figure size 640x480 with 1 Axes>",
      "image/png": "[encoded data removed]"
     },
     "metadata": {},
     "output_type": "display_data"
    }
   ],
   "source": [
    "## 生成空间坐标\n",
    "import random\n",
    "import numpy as np\n",
    "import matplotlib.pyplot as plt\n",
    "import matplotlib.patches as mpathes\n",
    "class room_para:\n",
    "    def __init__(self, n_sources):\n",
    "        def mic_judge():\n",
    "            center_room = self.wall / 2\n",
    "            xy_delta = self.center_mic - center_room\n",
    "            distance = np.sqrt(np.sum(xy_delta**2))\n",
    "            if distance < 0.2:\n",
    "                return False\n",
    "            else:\n",
    "                return True\n",
    "\n",
    "        def source_judge():\n",
    "            dis_mic = np.array([ np.sqrt(np.sum((self.loc_source[i] - self.center_mic)**2))\n",
    "                       for i in range(n_sources)\n",
    "                    ])\n",
    "            dis_center = np.array([ np.sqrt(np.sum((self.loc_source[i] - self.wall / 2)**2))\n",
    "                       for i in range(n_sources)\n",
    "                    ])\n",
    "            dis_source = np.array([ np.sqrt(np.sum((self.loc_source[i] - self.loc_source[j] )**2))\n",
    "                           for i in range(n_sources)\n",
    "                           for j in range(i+1, n_sources)])\n",
    "\n",
    "            if np.min(dis_mic) > 1.5 and np.min(dis_center) > 0.2 and np.min(dis_source) > 1 :\n",
    "                return True\n",
    "\n",
    "        self.n_ch = n_sources\n",
    "        self.T60 = 10 * random.randint(20, 60)\n",
    "        self.fs = 16000\n",
    "\n",
    "        self.wall = 5 + 5* np.array([random.random() , random.random()])\n",
    "        self.upper = 3 + random.random()\n",
    "\n",
    "\n",
    "        self.r_mic = 0.075 + 0.05 * random.random()\n",
    "        self.z_mic = 1 + random.random()\n",
    "        while True:\n",
    "            self.center_mic = self.r_mic +  np.array([\n",
    "                (self.wall[0] - 2* self.r_mic) * random.random() ,\n",
    "                (self.wall[1] - 2* self.r_mic) * random.random()])\n",
    "            if mic_judge():\n",
    "                break\n",
    "        self.theta_mic = (1 / n_sources) * np.arange(0 , n_sources) * 360 + random.randint(0, 360)\n",
    "        self.loc_mic = self.r_mic * np.array( [\n",
    "            np.cos(self.theta_mic * 2* np.pi / 360) ,\n",
    "            np.sin(self.theta_mic * 2* np.pi / 360)]).T \\\n",
    "                       + self.center_mic\n",
    "\n",
    "        self.z_source = 1.5 + 0.5 * np.random.rand(1, n_sources).squeeze()\n",
    "        while True:\n",
    "            self.loc_source = self.wall * np.random.rand(n_sources , 2)\n",
    "            if source_judge():\n",
    "                break\n",
    "\n",
    "        self.xyz_source = np.hstack((self.loc_source, self.z_source[:, None]))\n",
    "        self.xyz_mic = (np.hstack((self.loc_source, self.z_mic* np.ones((n_sources,1)))))\n",
    "        self.xyz_box = np.hstack((self.wall, self.upper))\n",
    "\n",
    "\n",
    "    def pic_show(self):\n",
    "        fig,ax = plt.subplots()\n",
    "\n",
    "        rect = mpathes.Rectangle([0,0], self.wall[0], self.wall[1], color = 'pink')\n",
    "        ax.add_patch(rect)\n",
    "\n",
    "        x_mic = self.loc_mic[:,0]\n",
    "        y_mic = self.loc_mic[:,1]\n",
    "        plt.scatter(x_mic, y_mic, c='blue', label = 'function')\n",
    "\n",
    "        plt.scatter(self.loc_source[:,0], self.loc_source[:,1], c='green', label = 'function')\n",
    "\n",
    "\n",
    "        plt.axis('equal')\n",
    "        plt.grid()\n",
    "        plt.show()\n",
    "\n",
    "room = room_para(4)\n",
    "print(room.xyz_box)\n",
    "# print(room.xyz_mic)\n",
    "# print(room.xyz_source)\n",
    "\n",
    "room.pic_show()\n"
   ],
   "metadata": {
    "collapsed": false
   }
  },
  {
   "cell_type": "code",
   "execution_count": 3,
   "outputs": [
    {
     "name": "stdout",
     "output_type": "stream",
     "text": [
      "4\n"
     ]
    }
   ],
   "source": [
    "# 房间生成样例\n",
    "\n",
    "import pyroomacoustics as pra\n",
    "# n_sources = 3\n",
    "\n",
    "def simulate(n_sources = 2,draw = False):\n",
    "\n",
    "    box = room_para(n_sources)\n",
    "    # print(box.xyz_source)\n",
    "\n",
    "    rt60 = box.T60 / 1000\n",
    "    fs = box.fs\n",
    "    n_ch = box.n_ch\n",
    "\n",
    "    e_absorption , max_order = pra.inverse_sabine(rt60, box.xyz_box)\n",
    "    echo_room = pra.ShoeBox(box.xyz_box, materials = pra.Material(e_absorption), max_order = max_order, fs = fs)\n",
    "\n",
    "    echo_room.add_microphone_array(box.xyz_mic.T)\n",
    "    for i in range(n_ch):\n",
    "        echo_room.add_source(box.xyz_source[i,:].tolist())\n",
    "\n",
    "\n",
    "    echo_room.compute_rir()\n",
    "\n",
    "    if draw:\n",
    "        fig, ax = echo_room.plot()\n",
    "        ax.set_xlim([-1, 10])\n",
    "        ax.set_ylim([-1, 10])\n",
    "        ax.set_zlim([-1, 5])\n",
    "        fig.show()\n",
    "\n",
    "\n",
    "    ret = echo_room.rir\n",
    "\n",
    "    len_ret = np.array([len(ret[i][j])\n",
    "                        for i in range(n_sources)\n",
    "                        for j in range(n_sources)])\n",
    "    lr = np.min(len_ret)\n",
    "    for i in range(n_sources):\n",
    "        for j in range(n_sources):\n",
    "            ret[i][j] = ret[i][j][:lr]\n",
    "\n",
    "    ret2 = np.array(ret , dtype = float)\n",
    "\n",
    "    return ret2\n",
    "\n",
    "\n",
    "ret = simulate(4)\n",
    "print(ret.shape[0])"
   ],
   "metadata": {
    "collapsed": false
   }
  },
  {
   "cell_type": "code",
   "execution_count": 4,
   "outputs": [],
   "source": [
    "# 以双通道为例, 信号目录的抽取最后要合并成一个class\n",
    "# 算了，不合并了\n",
    "import os\n",
    "import random\n",
    "import pandas as pd\n",
    "import librosa\n",
    "\n",
    "def get_sources(n_sources = 2):\n",
    "\n",
    "\n",
    "    dataset_dir = r'C:\\Users\\aalab_linziyao\\PycharmProjects\\ilrma-t\\WSJ_ilrma-t'\n",
    "\n",
    "    speakers = os.listdir(dataset_dir)\n",
    "    n_speaker = len(speakers)\n",
    "    speaker_set = [os.listdir(os.path.join(dataset_dir, i))\n",
    "        for i in speakers]\n",
    "\n",
    "\n",
    "    speaker_value = random.sample(np.arange(n_speaker).tolist(), n_sources)\n",
    "    # 此处将采用datafame数据格式整合数据\n",
    "\n",
    "    # for i in range(10):\n",
    "    #     print(len(speaker_set[i]))\n",
    "\n",
    "\n",
    "    data = pd.DataFrame(speaker_set, speakers)\n",
    "    # print(data)\n",
    "\n",
    "    source_choosed = [\n",
    "        data.loc[speakers[ i ]][random.randint(0,len(speaker_set[i])-1)]\n",
    "        for i in speaker_value\n",
    "        ]\n",
    "\n",
    "\n",
    "    source_path = [\n",
    "        os.path.join(dataset_dir,speakers[speaker_value[i]] , source_choosed[i])\n",
    "                   for i in range(n_sources)\n",
    "    ]\n",
    "    # print(source_path)\n",
    "\n",
    "    src0, _ = librosa.load(source_path[0], sr=16000)\n",
    "    # print(src0.shape[0])\n",
    "\n",
    "    sig = []\n",
    "    sig_len = []\n",
    "    for i in range(n_sources):\n",
    "        src, _ = librosa.load(source_path[i], sr=16000)\n",
    "        sig.append(src)\n",
    "        sig_len.append(src.shape[0])\n",
    "    # print(max(sig_len))\n",
    "    sig_np = np.zeros((n_sources, max(sig_len)))\n",
    "    for i in range(n_sources):\n",
    "        sig_np[i, : sig_len[i]] = sig[i]\n",
    "    # print(np.shape(sig_np))\n",
    "    return sig_np\n",
    "\n",
    "sig = get_sources(4)"
   ],
   "metadata": {
    "collapsed": false
   }
  },
  {
   "cell_type": "code",
   "execution_count": 5,
   "outputs": [
    {
     "data": {
      "text/plain": "array([[ 5.19830076e-18,  3.89872557e-18,  4.35357689e-17, ...,\n        -1.82366950e-16,  1.86082923e-16,  1.30119966e-16],\n       [-1.29957519e-17,  2.46919286e-17, -6.23796092e-17, ...,\n         1.42953271e-17, -2.46919286e-17, -9.09702634e-18]])"
     },
     "execution_count": 5,
     "metadata": {},
     "output_type": "execute_result"
    }
   ],
   "source": [
    "# 混合这些信号——无噪声\n",
    "from scipy.signal import convolve\n",
    "import soundfile as sf\n",
    "n_sources = 2\n",
    "def get_mixed_sig(n_sources = 2):\n",
    "    rir = simulate(n_sources = n_sources)\n",
    "    sig = get_sources(n_sources = n_sources)\n",
    "\n",
    "    sig_mixed = []\n",
    "    for i in range(n_sources):\n",
    "        a = convolve(sig[0] , rir[i][0])\n",
    "        for j in range(1 , n_sources):\n",
    "            a = a + convolve(sig[j] , rir[i][j])\n",
    "        sig_mixed.append(a)\n",
    "\n",
    "    sig_mixed = np.array(sig_mixed)\n",
    "    # sf.write('mix_test.wav', sig_mixed[1], 16000)\n",
    "    return sig_mixed\n",
    "\n",
    "get_mixed_sig(n_sources)\n",
    "# 输入：RIR，"
   ],
   "metadata": {
    "collapsed": false
   }
  },
  {
   "cell_type": "code",
   "execution_count": 12,
   "outputs": [
    {
     "name": "stdout",
     "output_type": "stream",
     "text": [
      "(137728, 2)\n"
     ]
    }
   ],
   "source": [
    "# 导入一个IVA函数测试一下\n",
    "import numpy as np\n",
    "import pyroomacoustics as pra\n",
    "from toolbox import projection_back\n",
    "import soundfile as sf\n",
    "\n",
    "n_sources = 2\n",
    "sig_mixed = get_mixed_sig(n_sources, SNR= 30)\n",
    "L_frame = 1024\n",
    "hop = L_frame//4\n",
    "win_a = pra.hann(L_frame)\n",
    "win_s = pra.transform.stft.compute_synthesis_window(win_a, hop)\n",
    "\n",
    "X = pra.transform.stft.analysis(sig_mixed.T, L_frame,  hop, win=win_a)\n",
    "Y = pra.bss.auxiva(X, n_iter=30, proj_back=True)\n",
    "y = pra.transform.stft.synthesis(Y, L_frame, hop, win=win_s)\n",
    "print(np.shape(y))\n",
    "sf.write('septest0.wav', y[:,0], 16000)\n",
    "sf.write('septest1.wav', y[:,1], 16000)"
   ],
   "metadata": {
    "collapsed": false
   }
  },
  {
   "cell_type": "code",
   "execution_count": 11,
   "outputs": [
    {
     "data": {
      "text/plain": "array([[-0.07463079, -0.09622324, -0.12201252, ..., -0.09610158,\n        -0.08229458, -0.08113894],\n       [-0.07463079, -0.09622324, -0.12201252, ..., -0.09610158,\n        -0.08229458, -0.08113894]])"
     },
     "execution_count": 11,
     "metadata": {},
     "output_type": "execute_result"
    }
   ],
   "source": [
    "# 重写上面信号混合算法，需要对信号的响度进行归一化处理，并且添加噪声\n",
    "from scipy.signal import convolve\n",
    "import soundfile as sf\n",
    "n_sources = 2\n",
    "\n",
    "\n",
    "\n",
    "\n",
    "\n",
    "def get_mixed_sig(n_sources = 2, SNR = 30):\n",
    "\n",
    "    def add_noise(mixed_sig , SNR = 10):\n",
    "\n",
    "        n_sources = mixed_sig.shape[0]\n",
    "        len_f = mixed_sig.shape[1]\n",
    "\n",
    "        pw_n = 10**(- SNR / 10) * n_sources\n",
    "\n",
    "        noise_path = r'C:\\Users\\aalab_linziyao\\PycharmProjects\\ilrma-t\\noise.wav'\n",
    "        noise, _ = librosa.load(noise_path, sr=16000)\n",
    "        noise = noise / np.var(noise)\n",
    "\n",
    "        n_frames = noise.shape[0] // mixed_sig.shape[1]\n",
    "        noise_frame = np.array([noise[i*len_f : (i+1)*len_f ]\n",
    "            for i in range(n_frames)\n",
    "        ])\n",
    "        # noise_cs = random.sample(np.arange(n_frames).tolist(), n_sources)\n",
    "        noise_cs = [1,1]\n",
    "        noise_sig_add = pw_n * noise_frame[noise_cs, :]\n",
    "\n",
    "        return noise_sig_add + mixed_sig\n",
    "\n",
    "\n",
    "    rir = simulate(n_sources = n_sources)\n",
    "    sig = get_sources(n_sources = n_sources)\n",
    "\n",
    "    sig_mixed = []\n",
    "    for i in range(n_sources):\n",
    "        a = convolve(sig[0] , rir[i][0])\n",
    "        for j in range(1 , n_sources):\n",
    "            a = a + convolve(sig[j] , rir[i][j])\n",
    "        sig_mixed.append(a)\n",
    "\n",
    "    sig_mixed = np.array(sig_mixed)/np.var(sig_mixed[0])\n",
    "    sig_mixed_n = add_noise(sig_mixed, SNR)\n",
    "\n",
    "\n",
    "    # sf.write('mix_test.wav', sig_mixed[1], 16000)\n",
    "    return sig_mixed_n\n",
    "\n",
    "get_mixed_sig(n_sources)"
   ],
   "metadata": {
    "collapsed": false
   }
  },
  {
   "cell_type": "code",
   "execution_count": 47,
   "outputs": [
    {
     "data": {
      "text/plain": "[1, 2]"
     },
     "execution_count": 47,
     "metadata": {},
     "output_type": "execute_result"
    }
   ],
   "source": [
    "random.sample(np.arange(4).tolist(), 2)\n"
   ],
   "metadata": {
    "collapsed": false
   }
  },
  {
   "cell_type": "markdown",
   "source": [
    "综合考虑一下，觉得这个算法有些问题，暂时不考虑加入噪声，先写信号的评估模块\n",
    "框架为，得到混合后的信号的时候计算SI-SIR,在分离后对信号进行裁剪并且再次计算"
   ],
   "metadata": {
    "collapsed": false
   }
  },
  {
   "cell_type": "markdown",
   "source": [
    "考虑到复杂性，以及多个算法联合对比的需要，此次算法采用先生成混合数据，并统一保存的策略\n",
    "暂时不考虑加入噪声——直到那个傻逼作者回我邮件\n",
    "SI-SIR标准在生成数据时一并计算\n",
    "另外两个标准似乎不是求delta，那么就暂时不考虑了"
   ],
   "metadata": {
    "collapsed": false
   }
  },
  {
   "cell_type": "code",
   "execution_count": 18,
   "outputs": [
    {
     "ename": "AttributeError",
     "evalue": "'re.Pattern' object has no attribute 'matcher'",
     "output_type": "error",
     "traceback": [
      "\u001B[1;31m---------------------------------------------------------------------------\u001B[0m",
      "\u001B[1;31mAttributeError\u001B[0m                            Traceback (most recent call last)",
      "Input \u001B[1;32mIn [18]\u001B[0m, in \u001B[0;36m<cell line: 12>\u001B[1;34m()\u001B[0m\n\u001B[0;32m      9\u001B[0m a \u001B[38;5;241m=\u001B[39m a\u001B[38;5;241m.\u001B[39mreplace(\u001B[38;5;124m'\u001B[39m\u001B[38;5;130;01m\\\\\u001B[39;00m\u001B[38;5;130;01m\\\\\u001B[39;00m\u001B[38;5;124m'\u001B[39m,\u001B[38;5;124m'\u001B[39m\u001B[38;5;130;01m\\\\\u001B[39;00m\u001B[38;5;124m'\u001B[39m)\n\u001B[0;32m     11\u001B[0m nongre \u001B[38;5;241m=\u001B[39m re\u001B[38;5;241m.\u001B[39mcompile(\u001B[38;5;124m'\u001B[39m\u001B[38;5;124mWSJ.*?wav\u001B[39m\u001B[38;5;124m'\u001B[39m)\n\u001B[1;32m---> 12\u001B[0m c \u001B[38;5;241m=\u001B[39m \u001B[43mnongre\u001B[49m\u001B[38;5;241;43m.\u001B[39;49m\u001B[43mmatcher\u001B[49m(a)\n\u001B[0;32m     13\u001B[0m \u001B[38;5;66;03m# c = re.findall(r\"^WSJ  .wav$\", b)\u001B[39;00m\n\u001B[0;32m     14\u001B[0m \u001B[38;5;28mprint\u001B[39m(c[\u001B[38;5;241m0\u001B[39m])\n",
      "\u001B[1;31mAttributeError\u001B[0m: 're.Pattern' object has no attribute 'matcher'"
     ]
    }
   ],
   "source": [
    "# 关于如何匹配那个玩意\n",
    "\n",
    "import pandas as pd\n",
    "import re\n",
    "import soundfile as sf\n",
    "\n",
    "df = pd.read_excel(r'C:\\Users\\aalab_linziyao\\PycharmProjects\\ilrma-t\\mixed\\ch_3_test.xlsx')\n",
    "a = df.loc[3][1]\n",
    "a = a.replace('\\\\\\\\','\\\\')\n",
    "\n",
    "nongre = re.compile('WSJ.*?wav')\n",
    "c = nongre.matcher(a)\n",
    "# c = re.findall(r\"^WSJ  .wav$\", b)\n",
    "print(c[0])\n",
    "sf.read(c[0])\n"
   ],
   "metadata": {
    "collapsed": false
   }
  },
  {
   "cell_type": "code",
   "execution_count": 37,
   "outputs": [
    {
     "name": "stdout",
     "output_type": "stream",
     "text": [
      "[-15.91634427 -17.49322794 -21.14204906]\n"
     ]
    },
    {
     "data": {
      "text/plain": "array([-15.91634427, -17.49322794, -21.14204906])"
     },
     "execution_count": 37,
     "metadata": {},
     "output_type": "execute_result"
    }
   ],
   "source": [
    "import pandas as pd\n",
    "import numpy as np\n",
    "\n",
    "\n",
    "df = pd.read_excel(r'C:\\Users\\aalab_linziyao\\PycharmProjects\\ilrma-t\\mixed\\ch_3.xlsx')\n",
    "a = df.loc[3][2]\n",
    "print(a)\n",
    "\n",
    "# a = a.replace('[','')\n",
    "# a = a.replace(']','')\n",
    "a = a.strip('[]')\n",
    "b = a.split(' ')\n",
    "c = np.array([float(k)\n",
    "for k in b])\n",
    "c"
   ],
   "metadata": {
    "collapsed": false
   }
  },
  {
   "cell_type": "code",
   "execution_count": 39,
   "outputs": [
    {
     "name": "stdout",
     "output_type": "stream",
     "text": [
      "[-15.91634427 -17.49322794 -21.14204906]\n"
     ]
    },
    {
     "data": {
      "text/plain": "'-15.91634427 -17.49322794 -21.14204906'"
     },
     "execution_count": 39,
     "metadata": {},
     "output_type": "execute_result"
    }
   ],
   "source": [
    "import pandas as pd\n",
    "import numpy as np\n",
    "\n",
    "\n",
    "df = pd.read_excel(r'C:\\Users\\aalab_linziyao\\PycharmProjects\\ilrma-t\\mixed\\ch_3.xlsx')\n",
    "a = df.loc[3][2]\n",
    "print(a)\n",
    "\n",
    "a.strip('[]')"
   ],
   "metadata": {
    "collapsed": false
   }
  },
  {
   "cell_type": "code",
   "execution_count": null,
   "outputs": [],
   "source": [],
   "metadata": {
    "collapsed": false
   }
  }
 ],
 "metadata": {
  "kernelspec": {
   "display_name": "Python 3 (ipykernel)",
   "language": "python",
   "name": "python3"
  },
  "language_info": {
   "codemirror_mode": {
    "name": "ipython",
    "version": 3
   },
   "file_extension": ".py",
   "mimetype": "text/x-python",
   "name": "python",
   "nbconvert_exporter": "python",
   "pygments_lexer": "ipython3",
   "version": "3.9.12"
  }
 },
 "nbformat": 4,
 "nbformat_minor": 5
}
